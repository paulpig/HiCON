{
 "cells": [
  {
   "cell_type": "code",
   "execution_count": null,
   "metadata": {
    "collapsed": true,
    "pycharm": {
     "name": "#%%\n"
    }
   },
   "outputs": [],
   "source": [
    "import numpy as np\n",
    "import matplotlib.pyplot as plt\n",
    "from scipy.spatial.distance import cdist\n",
    "from sklearn import preprocessing\n",
    "plt.rc('font', family='Times New Roman')\n",
    "\n",
    "model_name = 'SCIL_v2'\n",
    "print(model_name)\n",
    "\n",
    "user_emb = np.load('./{}/user_emb.npy'.format(model_name))\n",
    "item_emb = np.load('./{}/item_emb.npy'.format(model_name))\n",
    "\n",
    "user_emb = preprocessing.normalize(user_emb, norm='l2')\n",
    "item_emb = preprocessing.normalize(item_emb, norm='l2')\n",
    "\n",
    "\n",
    "# v1: smv scores: refered paper: Towards Deeper Graph Neural Networks\n",
    "# Y = cdist(user_emb, user_emb, 'minkowski', p=2.)\n",
    "Y = cdist(user_emb, user_emb, 'euclidean')\n",
    "\n",
    "# mask对角元素后求均值\n",
    "smv_score = 0.\n",
    "for row_i in Y:\n",
    "    for col_i in Y[row_i]:\n",
    "        if row_i == col_i:\n",
    "            continue\n",
    "        else:\n",
    "            smv_score += Y[row_i][col_i]\n",
    "\n",
    "print(smv_score/(len(Y) * (len(Y) - 1)))\n",
    "\n",
    "# #norm_tmp = np.mean(np.power(Y, 2))\n",
    "# #true_tmp = ( np.power(Y, 2) - norm_tmp ) / norm_tmp\n",
    "# #uniform = np.log(np.mean(np.exp(-2*true_tmp)))\n",
    "# uniform = np.log(np.mean(np.exp(-2*np.power(Y, 2))))\n",
    "# print(\"uniform score:\", uniform)\n",
    "# #pdb.set_trace()"
   ]
  }
 ],
 "metadata": {
  "kernelspec": {
   "display_name": "Python 3",
   "language": "python",
   "name": "python3"
  },
  "language_info": {
   "codemirror_mode": {
    "name": "ipython",
    "version": 2
   },
   "file_extension": ".py",
   "mimetype": "text/x-python",
   "name": "python",
   "nbconvert_exporter": "python",
   "pygments_lexer": "ipython2",
   "version": "2.7.6"
  }
 },
 "nbformat": 4,
 "nbformat_minor": 0
}